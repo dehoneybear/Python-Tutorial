{
 "metadata": {
  "language_info": {
   "codemirror_mode": {
    "name": "ipython",
    "version": 3
   },
   "file_extension": ".py",
   "mimetype": "text/x-python",
   "name": "python",
   "nbconvert_exporter": "python",
   "pygments_lexer": "ipython3",
   "version": "3.8.5-final"
  },
  "orig_nbformat": 2,
  "kernelspec": {
   "name": "python_defaultSpec_1598261348618",
   "display_name": "Python 3.8.5 32-bit"
  }
 },
 "nbformat": 4,
 "nbformat_minor": 2,
 "cells": [
  {
   "cell_type": "code",
   "execution_count": 57,
   "metadata": {
    "tags": []
   },
   "outputs": [
    {
     "output_type": "stream",
     "name": "stdout",
     "text": "a 값은 : 300입니당\n315 15\n-10\n315:15:-10\n"
    }
   ],
   "source": [
    "a=10\n",
    "a+=10\n",
    "a*=15\n",
    "text = \"a 값은 \"\n",
    "print(text, a,sep=': ', end=\"입니당\"'\\n')\n",
    "b=15\n",
    "a+=b\n",
    "print(a,b)\n",
    "c = -10\n",
    "print(c)\n",
    "\n",
    "print(a,b,c, sep=':')"
   ]
  },
  {
   "cell_type": "code",
   "execution_count": 61,
   "metadata": {
    "tags": []
   },
   "outputs": [
    {
     "output_type": "stream",
     "name": "stdout",
     "text": "300\n300 300\n500 500\n300 500\n500 300\n300 500 300\n"
    }
   ],
   "source": [
    "a = 300         # a는 변수\n",
    "b = 500         # b는 변수\n",
    "\n",
    "print(a)\n",
    "print(a, a)\n",
    "print(b, b)\n",
    "print(a, b)\n",
    "print(b, a)\n",
    "print(a,b,a)"
   ]
  },
  {
   "cell_type": "code",
   "execution_count": 62,
   "metadata": {
    "tags": []
   },
   "outputs": [
    {
     "output_type": "stream",
     "name": "stdout",
     "text": "30 20 10\n"
    }
   ],
   "source": [
    "apple = 30\n",
    "banana = 20\n",
    "print(apple,banana,10)"
   ]
  },
  {
   "cell_type": "code",
   "execution_count": 71,
   "metadata": {
    "tags": []
   },
   "outputs": [
    {
     "output_type": "error",
     "ename": "SyntaxError",
     "evalue": "invalid syntax (<ipython-input-71-cc9d48c8d164>, line 1)",
     "traceback": [
      "\u001b[1;36m  File \u001b[1;32m\"<ipython-input-71-cc9d48c8d164>\"\u001b[1;36m, line \u001b[1;32m1\u001b[0m\n\u001b[1;33m    test(number, str):\u001b[0m\n\u001b[1;37m                      ^\u001b[0m\n\u001b[1;31mSyntaxError\u001b[0m\u001b[1;31m:\u001b[0m invalid syntax\n"
     ]
    }
   ],
   "source": [
    "def test(number, str):\n",
    "    print(number, str)\n",
    "\n",
    "test(\"안녕하세요\", 10)"
   ]
  },
  {
   "cell_type": "code",
   "execution_count": 73,
   "metadata": {
    "tags": []
   },
   "outputs": [
    {
     "output_type": "stream",
     "name": "stdout",
     "text": "8\n8\n8.0\n"
    }
   ],
   "source": [
    "print(2*2*2)\n",
    "print(3+10-5)\n",
    "print(16/4*2)"
   ]
  }
 ]
}